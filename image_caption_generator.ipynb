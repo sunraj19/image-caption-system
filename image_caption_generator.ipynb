{
  "nbformat": 4,
  "nbformat_minor": 0,
  "metadata": {
    "colab": {
      "provenance": []
    },
    "kernelspec": {
      "name": "python3",
      "display_name": "Python 3"
    },
    "language_info": {
      "name": "python"
    }
  },
  "cells": [
    {
      "cell_type": "code",
      "execution_count": 1,
      "metadata": {
        "colab": {
          "base_uri": "https://localhost:8080/",
          "height": 211
        },
        "id": "YC7KSKv5u4_1",
        "outputId": "a07dafd6-ad20-4cbb-d8b4-0e9ccc8f4a1a"
      },
      "outputs": [
        {
          "output_type": "error",
          "ename": "FileNotFoundError",
          "evalue": "[Errno 2] No such file or directory: 'tokenizer.pkl'",
          "traceback": [
            "\u001b[0;31m---------------------------------------------------------------------------\u001b[0m",
            "\u001b[0;31mFileNotFoundError\u001b[0m                         Traceback (most recent call last)",
            "\u001b[0;32m<ipython-input-1-832de62b977c>\u001b[0m in \u001b[0;36m<cell line: 26>\u001b[0;34m()\u001b[0m\n\u001b[1;32m     24\u001b[0m \u001b[0;34m\u001b[0m\u001b[0m\n\u001b[1;32m     25\u001b[0m \u001b[0;31m# Load tokenizer and pre-trained caption model\u001b[0m\u001b[0;34m\u001b[0m\u001b[0;34m\u001b[0m\u001b[0m\n\u001b[0;32m---> 26\u001b[0;31m \u001b[0mtokenizer\u001b[0m \u001b[0;34m=\u001b[0m \u001b[0mpickle\u001b[0m\u001b[0;34m.\u001b[0m\u001b[0mload\u001b[0m\u001b[0;34m(\u001b[0m\u001b[0mopen\u001b[0m\u001b[0;34m(\u001b[0m\u001b[0;34m'tokenizer.pkl'\u001b[0m\u001b[0;34m,\u001b[0m \u001b[0;34m'rb'\u001b[0m\u001b[0;34m)\u001b[0m\u001b[0;34m)\u001b[0m  \u001b[0;31m# Pre-trained tokenizer\u001b[0m\u001b[0;34m\u001b[0m\u001b[0;34m\u001b[0m\u001b[0m\n\u001b[0m\u001b[1;32m     27\u001b[0m \u001b[0mcaption_model\u001b[0m \u001b[0;34m=\u001b[0m \u001b[0mload_model\u001b[0m\u001b[0;34m(\u001b[0m\u001b[0;34m'caption_model.h5'\u001b[0m\u001b[0;34m)\u001b[0m        \u001b[0;31m# Trained captioning model\u001b[0m\u001b[0;34m\u001b[0m\u001b[0;34m\u001b[0m\u001b[0m\n\u001b[1;32m     28\u001b[0m \u001b[0;34m\u001b[0m\u001b[0m\n",
            "\u001b[0;31mFileNotFoundError\u001b[0m: [Errno 2] No such file or directory: 'tokenizer.pkl'"
          ]
        }
      ],
      "source": [
        "import numpy as np\n",
        "from tensorflow.keras.applications.vgg16 import VGG16, preprocess_input\n",
        "from tensorflow.keras.models import Model, load_model\n",
        "from tensorflow.keras.preprocessing.image import load_img, img_to_array\n",
        "from tensorflow.keras.preprocessing.sequence import pad_sequences\n",
        "from tensorflow.keras.preprocessing.text import Tokenizer\n",
        "import pickle\n",
        "\n",
        "# Feature extraction using VGG16\n",
        "def extract_features(image_path):\n",
        "    # Load the VGG16 model pre-trained on ImageNet\n",
        "    base_model = VGG16(weights=\"imagenet\")\n",
        "    model = Model(inputs=base_model.input, outputs=base_model.layers[-2].output)\n",
        "\n",
        "    # Preprocess the image\n",
        "    image = load_img(image_path, target_size=(224, 224))  # Resize image\n",
        "    image = img_to_array(image)  # Convert to numpy array\n",
        "    image = np.expand_dims(image, axis=0)  # Add batch dimension\n",
        "    image = preprocess_input(image)  # Normalize the image\n",
        "\n",
        "    # Extract features\n",
        "    features = model.predict(image, verbose=0)\n",
        "    return features\n",
        "\n",
        "# Load tokenizer and pre-trained caption model\n",
        "tokenizer = pickle.load(open('tokenizer.pkl', 'rb'))  # Pre-trained tokenizer\n",
        "caption_model = load_model('caption_model.h5')        # Trained captioning model\n",
        "\n",
        "# Caption generation function\n",
        "def generate_caption(features, max_length):\n",
        "    in_text = 'startseq'\n",
        "    for _ in range(max_length):\n",
        "        # Convert current sequence to integers\n",
        "        sequence = tokenizer.texts_to_sequences([in_text])[0]\n",
        "        sequence = pad_sequences([sequence], maxlen=max_length)\n",
        "\n",
        "        # Predict the next word\n",
        "        y_pred = caption_model.predict([features, sequence], verbose=0)\n",
        "        y_pred = np.argmax(y_pred)  # Get the word with the highest probability\n",
        "\n",
        "        # Map integer back to word\n",
        "        word = tokenizer.index_word.get(y_pred)\n",
        "        if word is None:\n",
        "            break\n",
        "        in_text += ' ' + word\n",
        "        if word == 'endseq':\n",
        "            break\n",
        "    return in_text.replace('startseq', '').replace('endseq', '').strip()\n",
        "\n",
        "# Main function\n",
        "if __name__ == \"__main__\":\n",
        "    # Set image path\n",
        "    image_path = 'sample_image.jpg'  # Replace with your test image path\n",
        "\n",
        "    # Extract image features\n",
        "    features = extract_features(image_path)\n",
        "\n",
        "    # Generate caption\n",
        "    max_length = 34  # Adjust based on your dataset\n",
        "    caption = generate_caption(features, max_length)\n",
        "\n",
        "    print(\"Generated Caption:\", caption)\n"
      ]
    }
  ]
}